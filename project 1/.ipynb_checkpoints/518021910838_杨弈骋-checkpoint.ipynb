{
 "cells": [
  {
   "cell_type": "code",
   "execution_count": 66,
   "metadata": {},
   "outputs": [],
   "source": [
    "import pandas as pd\n",
    "import numpy as np\n",
    "import math\n",
    "import random\n",
    "from sklearn.model_selection import train_test_split\n",
    "from sklearn import model_selection\n",
    "\n",
    "\n",
    "def loadDataSet():\n",
    "    data = pd.read_csv(\"./train.csv\")\n",
    "    convertLabel(data)\n",
    "    y = data['price_range']\n",
    "    x = data.drop('price_range', axis = 1)\n",
    "    x_train, x_tmp, y_train, y_tmp = train_test_split(x, y, test_size = 0.2, random_state = random.randint(0,100), stratify = y)\n",
    "    x_test, x_valid, y_test, y_valid = train_test_split(x_tmp, y_tmp, test_size = 0.5, random_state = random.randint(0,100), stratify = y_tmp)\n",
    "    return x_train,y_train,x_test,y_test,x_valid,y_valid"
   ]
  },
  {
   "cell_type": "code",
   "execution_count": 67,
   "metadata": {},
   "outputs": [],
   "source": [
    "def convertLabel(data):\n",
    "    data.loc[data.price_range<=1,'price_range']=0\n",
    "    data.loc[data.price_range>1,'price_range']=1"
   ]
  },
  {
   "cell_type": "code",
   "execution_count": 68,
   "metadata": {},
   "outputs": [
    {
     "data": {
      "text/plain": [
       "0.91"
      ]
     },
     "execution_count": 68,
     "metadata": {},
     "output_type": "execute_result"
    }
   ],
   "source": [
    "def DataLabelSplit(x_data,y_data):\n",
    "    x=x_data.values\n",
    "    y=y_data.values\n",
    "    data=np.column_stack((x,y))\n",
    "    true_data=data[data[:,20]==1]\n",
    "    false_data=data[data[:,20]==0]\n",
    "    return true_data,false_data\n",
    "\n",
    "def getMeanStdLabel(true_data,false_data):\n",
    "    return np.mean(true_data,0), np.std(true_data,  0 ),np.mean(false_data,0), np.std(false_data,  0 )\n",
    "\n",
    "def calPossibilityForDiscrete(true_data,false_data):\n",
    "    column_number=true_data.shape[1]\n",
    "    true_data_possibility=[]\n",
    "    false_data_possibility=[]\n",
    "    for i in range(column_number):\n",
    "        true_data_factor_num=true_data[true_data[:,i]>0].shape[0]\n",
    "        true_data_possibility.append(true_data_factor_num/true_data.shape[0])\n",
    "        false_data_factor_num=false_data[false_data[:,i]>0].shape[0]\n",
    "        false_data_possibility.append(false_data_factor_num/false_data.shape[0])\n",
    "    return true_data_possibility,false_data_possibility\n",
    "\n",
    "\n",
    "def calcuGaussProb(x,mean,stdev):\n",
    "    exponent = np.exp(-(np.power(x-mean,2))/(2*np.power(stdev,2)))\n",
    "    GaussProb = (1/(np.sqrt(2*np.pi)*stdev))*exponent\n",
    "    return GaussProb\n",
    "\n",
    "\n",
    "def calPossibility(arr,mean_arr,std_arr,pro_arr):\n",
    "    possibility=1\n",
    "    for i in range(len(arr)):\n",
    "        if i==1 or i==3 or i==5 or i==17 or i==18 or i==19:\n",
    "            if arr[i]==1:\n",
    "                possibility*=pro_arr[i]\n",
    "            else:\n",
    "                possibility*=1-pro_arr[i]\n",
    "        else:\n",
    "            possibility*=calcuGaussProb(arr[i],mean_arr[i],std_arr[i])\n",
    "    return possibility\n",
    "\n",
    "def native_bayes_predict():\n",
    "    x_train,y_train,x_test,y_test,x_valid,y_valid=loadDataSet()\n",
    "    true_data,false_data=DataLabelSplit(x_train,y_train)\n",
    "    true_mean,true_std,false_mean,false_std=getMeanStdLabel(true_data,false_data)\n",
    "    true_data_possibility,false_data_possibility=calPossibilityForDiscrete(true_data,false_data)\n",
    "#     print(true_mean)\n",
    "#     print(true_std)\n",
    "    prediction=[]\n",
    "    for i in range(x_test.shape[0]):\n",
    "        arr=x_test.values[i]\n",
    "        true_possibility=calPossibility(arr,true_mean,true_std,true_data_possibility)\n",
    "        false_possibility=calPossibility(arr,false_mean,false_std,false_data_possibility)\n",
    "        if true_possibility>false_possibility:\n",
    "            prediction.append(1)\n",
    "        else:\n",
    "            prediction.append(0)\n",
    "#     print(prediction)\n",
    "    result=y_test.values\n",
    "    count=0\n",
    "    for i in range(len(result)):\n",
    "        if prediction[i]==result[i]:\n",
    "            count+=1\n",
    "    return count/len(result)\n",
    "\n",
    "native_bayes_predict()"
   ]
  },
  {
   "cell_type": "code",
   "execution_count": 69,
   "metadata": {},
   "outputs": [
    {
     "data": {
      "text/plain": [
       "0.5"
      ]
     },
     "execution_count": 69,
     "metadata": {},
     "output_type": "execute_result"
    }
   ],
   "source": [
    "def sigmoid(inX):  \n",
    "    return 1.0/(1+math.exp(-inX))\n",
    "\n",
    "def initW(data_num):\n",
    "    w=[]\n",
    "    for i in range(data_num):\n",
    "        w.append(random.uniform(-0.01,0.01))\n",
    "    return np.array(w)\n",
    "\n",
    "def gradientDescend():\n",
    "    ita=0.001\n",
    "    x_train,y_train,x_test,y_test,x_valid,y_valid=loadDataSet()\n",
    "    column_num=x_train.shape[1]\n",
    "    w=initW(column_num)\n",
    "    train_num=x_train.shape[0]\n",
    "    while True:\n",
    "        deltaW=np.zeros(column_num)\n",
    "        for j in range(train_num):\n",
    "            a=0\n",
    "            a+=w.dot(x_train.values[j])\n",
    "            y=sigmoid(a)\n",
    "            error=y_train.values[j]-y\n",
    "            deltaW+=error*x_train.values[j]\n",
    "        w+=ita*deltaW\n",
    "        if checkValid(w,x_valid,y_valid):\n",
    "            break\n",
    "    \n",
    "    test_num=x_test.shape[0]\n",
    "    prediction=[]\n",
    "    for i in range(test_num):\n",
    "        if w.dot(x_test.values[i])>0:\n",
    "            prediction.append(1)\n",
    "        else:\n",
    "            prediction.append(0)\n",
    "            \n",
    "    result=y_test.values\n",
    "    count=0\n",
    "    for i in range(len(result)):\n",
    "        if prediction[i]==result[i]:\n",
    "            count+=1\n",
    "    return count/len(result)\n",
    "\n",
    "def checkValid(w,x,y):\n",
    "    row_num=x.shape[0]\n",
    "    column_num=x.shape[1]\n",
    "    count=0\n",
    "    for i in range(row_num):\n",
    "        if w.dot(x.values[i])>0:\n",
    "            count+=1\n",
    "    return (count/row_num)>0.9\n",
    "\n",
    "gradientDescend()"
   ]
  },
  {
   "cell_type": "code",
   "execution_count": null,
   "metadata": {},
   "outputs": [],
   "source": []
  }
 ],
 "metadata": {
  "kernelspec": {
   "display_name": "Python 3",
   "language": "python",
   "name": "python3"
  },
  "language_info": {
   "codemirror_mode": {
    "name": "ipython",
    "version": 3
   },
   "file_extension": ".py",
   "mimetype": "text/x-python",
   "name": "python",
   "nbconvert_exporter": "python",
   "pygments_lexer": "ipython3",
   "version": "3.8.3"
  }
 },
 "nbformat": 4,
 "nbformat_minor": 4
}
