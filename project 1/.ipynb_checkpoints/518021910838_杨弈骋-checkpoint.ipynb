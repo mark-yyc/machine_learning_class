{
 "cells": [
  {
   "cell_type": "code",
   "execution_count": 1,
   "metadata": {},
   "outputs": [],
   "source": [
    "import pandas as pd\n",
    "import numpy as np\n",
    "from sklearn.model_selection import train_test_split\n",
    "\n",
    "\n",
    "def loadDataSet():\n",
    "    data = pd.read_csv(\"./train.csv\")\n",
    "    convertLabel(data)\n",
    "    y = data['price_range']\n",
    "    x = data.drop('price_range', axis = 1)\n",
    "    print(y.head())\n",
    "    x_train, x_tmp, y_train, y_tmp = train_test_split(x, y, test_size = 0.2, random_state = 101, stratify = y)\n",
    "    x_test, x_valid, y_test, y_valid = train_test_split(x_tmp, y_tmp, test_size = 0.5, random_state = 101, stratify = y_tmp)\n",
    "    return x_train,y_train,x_test,y_test,x_valid,y_valid"
   ]
  },
  {
   "cell_type": "code",
   "execution_count": 2,
   "metadata": {},
   "outputs": [
    {
     "name": "stdout",
     "output_type": "stream",
     "text": [
      "0    0\n",
      "1    1\n",
      "2    1\n",
      "3    1\n",
      "4    0\n",
      "Name: price_range, dtype: int64\n"
     ]
    }
   ],
   "source": [
    "def convertLabel(data):\n",
    "    data.loc[data.price_range<=1,'price_range']=0\n",
    "    data.loc[data.price_range>1,'price_range']=1\n",
    "\n",
    "x_train,y_train,x_test,y_test,x_valid,y_valid=loadDataSet()"
   ]
  },
  {
   "cell_type": "code",
   "execution_count": null,
   "metadata": {},
   "outputs": [],
   "source": []
  }
 ],
 "metadata": {
  "kernelspec": {
   "display_name": "Python 3",
   "language": "python",
   "name": "python3"
  },
  "language_info": {
   "codemirror_mode": {
    "name": "ipython",
    "version": 3
   },
   "file_extension": ".py",
   "mimetype": "text/x-python",
   "name": "python",
   "nbconvert_exporter": "python",
   "pygments_lexer": "ipython3",
   "version": "3.8.3"
  }
 },
 "nbformat": 4,
 "nbformat_minor": 4
}
