import pandas as pd
import numpy as np
from sklearn.model_selection import train_test_split


def loadDataSet():
    data = pd.read_csv("./train.csv")
    convertLabel(data)
    y = data['price_range']
    x = data.drop('price_range', axis = 1)
    print(y.head())
    x_train, x_tmp, y_train, y_tmp = train_test_split(x, y, test_size = 0.2, random_state = 101, stratify = y)
    x_test, x_valid, y_test, y_valid = train_test_split(x_tmp, y_tmp, test_size = 0.5, random_state = 101, stratify = y_tmp)
    return x_train,y_train,x_test,y_test,x_valid,y_valid


def convertLabel(data):
    data.loc[data.price_range<=1,'price_range']=0
    data.loc[data.price_range>1,'price_range']=1

x_train,y_train,x_test,y_test,x_valid,y_valid=loadDataSet()



